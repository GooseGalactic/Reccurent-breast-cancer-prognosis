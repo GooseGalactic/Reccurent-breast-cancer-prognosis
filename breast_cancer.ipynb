{
  "nbformat": 4,
  "nbformat_minor": 0,
  "metadata": {
    "colab": {
      "name": "breast_cancer.ipynb",
      "provenance": [],
      "collapsed_sections": []
    },
    "kernelspec": {
      "name": "python3",
      "display_name": "Python 3"
    },
    "language_info": {
      "name": "python"
    }
  },
  "cells": [
    {
      "cell_type": "code",
      "execution_count": 1,
      "metadata": {
        "id": "3uQCvUIspUHC"
      },
      "outputs": [],
      "source": [
        "import pandas as pd\n",
        "import numpy as np\n",
        "import matplotlib.pyplot as plt\n",
        "import seaborn as sns\n",
        "\n",
        "from sklearn.model_selection import train_test_split, StratifiedKFold, cross_val_score, GridSearchCV\n",
        "from sklearn.preprocessing import OrdinalEncoder, OneHotEncoder, LabelBinarizer\n",
        "from sklearn.compose import ColumnTransformer\n",
        "from sklearn.metrics import f1_score, log_loss, roc_auc_score, accuracy_score\n",
        "from sklearn.linear_model import LogisticRegression\n",
        "from sklearn.svm import SVC\n",
        "from sklearn.neighbors import KNeighborsClassifier\n",
        "from sklearn.naive_bayes import CategoricalNB\n",
        "from sklearn.tree import DecisionTreeClassifier\n",
        "from sklearn.ensemble import RandomForestClassifier\n",
        "from sklearn.dummy import DummyClassifier\n",
        "from sklearn.feature_selection import SelectKBest, chi2, mutual_info_classif\n",
        "\n",
        "from imblearn.over_sampling import SMOTEN, RandomOverSampler\n",
        "from imblearn.pipeline import Pipeline\n",
        "\n",
        "import warnings\n",
        "warnings.filterwarnings('ignore')"
      ]
    },
    {
      "cell_type": "code",
      "source": [
        "df = pd.read_csv('breast-cancer_csv.csv')"
      ],
      "metadata": {
        "id": "FyZRpnrRpsPT"
      },
      "execution_count": 2,
      "outputs": []
    },
    {
      "cell_type": "markdown",
      "source": [
        "## Предобработка данных"
      ],
      "metadata": {
        "id": "bR4CWc088xrZ"
      }
    },
    {
      "cell_type": "code",
      "source": [
        "df.head()"
      ],
      "metadata": {
        "colab": {
          "base_uri": "https://localhost:8080/",
          "height": 206
        },
        "id": "h_YpBCWapwX6",
        "outputId": "cf9a79a6-adc9-4c6a-fc3f-efa59316d082"
      },
      "execution_count": 3,
      "outputs": [
        {
          "output_type": "execute_result",
          "data": {
            "text/plain": [
              "     age menopause tumor-size inv-nodes node-caps  deg-malig breast  \\\n",
              "0  40-49   premeno      15-19       0-2       yes          3  right   \n",
              "1  50-59      ge40      15-19       0-2        no          1  right   \n",
              "2  50-59      ge40      35-39       0-2        no          2   left   \n",
              "3  40-49   premeno      35-39       0-2       yes          3  right   \n",
              "4  40-49   premeno      30-34       3-5       yes          2   left   \n",
              "\n",
              "  breast-quad irradiat                 Class  \n",
              "0     left_up       no     recurrence-events  \n",
              "1     central       no  no-recurrence-events  \n",
              "2    left_low       no     recurrence-events  \n",
              "3    left_low      yes  no-recurrence-events  \n",
              "4    right_up       no     recurrence-events  "
            ],
            "text/html": [
              "<div>\n",
              "<style scoped>\n",
              "    .dataframe tbody tr th:only-of-type {\n",
              "        vertical-align: middle;\n",
              "    }\n",
              "\n",
              "    .dataframe tbody tr th {\n",
              "        vertical-align: top;\n",
              "    }\n",
              "\n",
              "    .dataframe thead th {\n",
              "        text-align: right;\n",
              "    }\n",
              "</style>\n",
              "<table border=\"1\" class=\"dataframe\">\n",
              "  <thead>\n",
              "    <tr style=\"text-align: right;\">\n",
              "      <th></th>\n",
              "      <th>age</th>\n",
              "      <th>menopause</th>\n",
              "      <th>tumor-size</th>\n",
              "      <th>inv-nodes</th>\n",
              "      <th>node-caps</th>\n",
              "      <th>deg-malig</th>\n",
              "      <th>breast</th>\n",
              "      <th>breast-quad</th>\n",
              "      <th>irradiat</th>\n",
              "      <th>Class</th>\n",
              "    </tr>\n",
              "  </thead>\n",
              "  <tbody>\n",
              "    <tr>\n",
              "      <th>0</th>\n",
              "      <td>40-49</td>\n",
              "      <td>premeno</td>\n",
              "      <td>15-19</td>\n",
              "      <td>0-2</td>\n",
              "      <td>yes</td>\n",
              "      <td>3</td>\n",
              "      <td>right</td>\n",
              "      <td>left_up</td>\n",
              "      <td>no</td>\n",
              "      <td>recurrence-events</td>\n",
              "    </tr>\n",
              "    <tr>\n",
              "      <th>1</th>\n",
              "      <td>50-59</td>\n",
              "      <td>ge40</td>\n",
              "      <td>15-19</td>\n",
              "      <td>0-2</td>\n",
              "      <td>no</td>\n",
              "      <td>1</td>\n",
              "      <td>right</td>\n",
              "      <td>central</td>\n",
              "      <td>no</td>\n",
              "      <td>no-recurrence-events</td>\n",
              "    </tr>\n",
              "    <tr>\n",
              "      <th>2</th>\n",
              "      <td>50-59</td>\n",
              "      <td>ge40</td>\n",
              "      <td>35-39</td>\n",
              "      <td>0-2</td>\n",
              "      <td>no</td>\n",
              "      <td>2</td>\n",
              "      <td>left</td>\n",
              "      <td>left_low</td>\n",
              "      <td>no</td>\n",
              "      <td>recurrence-events</td>\n",
              "    </tr>\n",
              "    <tr>\n",
              "      <th>3</th>\n",
              "      <td>40-49</td>\n",
              "      <td>premeno</td>\n",
              "      <td>35-39</td>\n",
              "      <td>0-2</td>\n",
              "      <td>yes</td>\n",
              "      <td>3</td>\n",
              "      <td>right</td>\n",
              "      <td>left_low</td>\n",
              "      <td>yes</td>\n",
              "      <td>no-recurrence-events</td>\n",
              "    </tr>\n",
              "    <tr>\n",
              "      <th>4</th>\n",
              "      <td>40-49</td>\n",
              "      <td>premeno</td>\n",
              "      <td>30-34</td>\n",
              "      <td>3-5</td>\n",
              "      <td>yes</td>\n",
              "      <td>2</td>\n",
              "      <td>left</td>\n",
              "      <td>right_up</td>\n",
              "      <td>no</td>\n",
              "      <td>recurrence-events</td>\n",
              "    </tr>\n",
              "  </tbody>\n",
              "</table>\n",
              "</div>"
            ]
          },
          "metadata": {},
          "execution_count": 3
        }
      ]
    },
    {
      "cell_type": "code",
      "source": [
        "df.info()"
      ],
      "metadata": {
        "colab": {
          "base_uri": "https://localhost:8080/"
        },
        "id": "XaPn2x5QpxiC",
        "outputId": "a99a6286-a381-492c-bd7e-8fa6c97b709b"
      },
      "execution_count": 4,
      "outputs": [
        {
          "output_type": "stream",
          "name": "stdout",
          "text": [
            "<class 'pandas.core.frame.DataFrame'>\n",
            "RangeIndex: 286 entries, 0 to 285\n",
            "Data columns (total 10 columns):\n",
            " #   Column       Non-Null Count  Dtype \n",
            "---  ------       --------------  ----- \n",
            " 0   age          286 non-null    object\n",
            " 1   menopause    286 non-null    object\n",
            " 2   tumor-size   286 non-null    object\n",
            " 3   inv-nodes    286 non-null    object\n",
            " 4   node-caps    278 non-null    object\n",
            " 5   deg-malig    286 non-null    int64 \n",
            " 6   breast       286 non-null    object\n",
            " 7   breast-quad  285 non-null    object\n",
            " 8   irradiat     286 non-null    object\n",
            " 9   Class        286 non-null    object\n",
            "dtypes: int64(1), object(9)\n",
            "memory usage: 22.5+ KB\n"
          ]
        }
      ]
    },
    {
      "cell_type": "code",
      "source": [
        "for column in df.columns:\n",
        "  print(column)\n",
        "  print(df[column].value_counts(normalize=True, dropna=False), '\\n')"
      ],
      "metadata": {
        "colab": {
          "base_uri": "https://localhost:8080/"
        },
        "id": "LE9vSmJirxa2",
        "outputId": "44ba2d9b-9a80-492e-d62a-cc81b40df966"
      },
      "execution_count": 5,
      "outputs": [
        {
          "output_type": "stream",
          "name": "stdout",
          "text": [
            "age\n",
            "50-59    0.335664\n",
            "40-49    0.314685\n",
            "60-69    0.199301\n",
            "30-39    0.125874\n",
            "70-79    0.020979\n",
            "20-29    0.003497\n",
            "Name: age, dtype: float64 \n",
            "\n",
            "menopause\n",
            "premeno    0.524476\n",
            "ge40       0.451049\n",
            "lt40       0.024476\n",
            "Name: menopause, dtype: float64 \n",
            "\n",
            "tumor-size\n",
            "30-34    0.209790\n",
            "25-29    0.188811\n",
            "20-24    0.174825\n",
            "15-19    0.104895\n",
            "10-14    0.097902\n",
            "40-44    0.076923\n",
            "35-39    0.066434\n",
            "0-4      0.027972\n",
            "50-54    0.027972\n",
            "5-9      0.013986\n",
            "45-49    0.010490\n",
            "Name: tumor-size, dtype: float64 \n",
            "\n",
            "inv-nodes\n",
            "0-2      0.744755\n",
            "3-5      0.125874\n",
            "6-8      0.059441\n",
            "9-11     0.034965\n",
            "15-17    0.020979\n",
            "12-14    0.010490\n",
            "24-26    0.003497\n",
            "Name: inv-nodes, dtype: float64 \n",
            "\n",
            "node-caps\n",
            "no     0.776224\n",
            "yes    0.195804\n",
            "NaN    0.027972\n",
            "Name: node-caps, dtype: float64 \n",
            "\n",
            "deg-malig\n",
            "2    0.454545\n",
            "3    0.297203\n",
            "1    0.248252\n",
            "Name: deg-malig, dtype: float64 \n",
            "\n",
            "breast\n",
            "left     0.531469\n",
            "right    0.468531\n",
            "Name: breast, dtype: float64 \n",
            "\n",
            "breast-quad\n",
            "left_low     0.384615\n",
            "left_up      0.339161\n",
            "right_up     0.115385\n",
            "right_low    0.083916\n",
            "central      0.073427\n",
            "NaN          0.003497\n",
            "Name: breast-quad, dtype: float64 \n",
            "\n",
            "irradiat\n",
            "no     0.762238\n",
            "yes    0.237762\n",
            "Name: irradiat, dtype: float64 \n",
            "\n",
            "Class\n",
            "no-recurrence-events    0.702797\n",
            "recurrence-events       0.297203\n",
            "Name: Class, dtype: float64 \n",
            "\n"
          ]
        }
      ]
    },
    {
      "cell_type": "markdown",
      "source": [
        "У нас имеется 286 наблюдений за пациентами, датасет малого размера. В целевом признаке присутствует дисбаланс классов (70:30)  \n",
        "Большинство признаков представлено в виде промежутков (такие как возраст, размер опухоли). Присутствуют пропуски в признаках node-caps и breast-quad. Природа признаков неизвестна (предполагается невозможность полноценной диагностики) - заполним самым частым значением.     \n",
        "Практически все признаки - категориальные, при этом:   \n",
        "номинальные - menopause, node-caps, breast, breast-quad, irradiat, Class    \n",
        "порядковые - age, tumor-size, inv-nodes   \n",
        "При этом в признаках age, tumor_size и inv_nodes имеются редкие значения - не более 3% датасета. Более того - такое разделение не привносит значимый вклад в предсказание целевого признака. К примеру, в практической деятельности количество пораженных метастатически лимфатических узлов более 6 прогностически эквивалентно 26 и более узлам.\n",
        "\n",
        "Переименуем признаки в snake_case, объединим редкие значения признаков. Обработку типов переменных произведем после исследовательского анализа данных\n",
        "   \n"
      ],
      "metadata": {
        "id": "-Fmbz1Cx-Azx"
      }
    },
    {
      "cell_type": "code",
      "source": [
        "'''\n",
        "Функция принимает датасет, приводит столбцы к snake_case,\n",
        "объединяет редкие значения признаков, заполняет пропуски \n",
        "самыми частыми значениями.\n",
        "'''\n",
        "def rename_combine_fill(data):\n",
        "\n",
        "  data.columns = data.columns.str.replace('-', '_').str.lower()\n",
        "  data['age'] = data['age'].replace(['60-69', '70-79', '20-29', '30-39'], ['60-79', '60-79', '20-39', '20-39'])\n",
        "  data['tumor_size'] = data['tumor_size'].replace(['0-4', '5-9', '45-49', '50-54'], ['0-9', '0-9', '45-54', '45-54'])\n",
        "  data['inv_nodes'] = data['inv_nodes'].replace(['6-8', '9-11', '15-17', '12-14', '24-26'], '6-26')\n",
        "\n",
        "  miss_columns = ['node_caps', 'breast_quad']\n",
        "  for column in miss_columns:\n",
        "    data[column] = data[column].fillna(data[column].mode().iloc[0])\n",
        "\n",
        "  print('Преобразование завершено')"
      ],
      "metadata": {
        "id": "6DgfN9-AKXqB"
      },
      "execution_count": 6,
      "outputs": []
    },
    {
      "cell_type": "code",
      "source": [
        "df_prep = df.copy()\n",
        "rename_combine_fill(df_prep)"
      ],
      "metadata": {
        "colab": {
          "base_uri": "https://localhost:8080/"
        },
        "id": "ntEKl_e7Mwpd",
        "outputId": "138241e5-254c-4455-d7f5-7a564d325426"
      },
      "execution_count": 7,
      "outputs": [
        {
          "output_type": "stream",
          "name": "stdout",
          "text": [
            "Преобразование завершено\n"
          ]
        }
      ]
    },
    {
      "cell_type": "markdown",
      "source": [
        "## Исследовательский анализ данных"
      ],
      "metadata": {
        "id": "cKelW22EOPia"
      }
    },
    {
      "cell_type": "markdown",
      "source": [
        "Некоторые из признаков обязаны влиять на класс больше, нежели остальные. Логично предположить, что наличие метастазов в лимфатические узлы и их экстранодальное распространение являются прогностически неблагоприятным признаком, а степень злокачественности G1 и малый размер опухоли - благоприятным. Стоит отметить, что локализация опухолевого узла обычно не играет значительной роли в определении вероятности рецидива. Для проверки наших предположений построим распределения по признаку"
      ],
      "metadata": {
        "id": "Jr94C2CMOp1C"
      }
    },
    {
      "cell_type": "markdown",
      "source": [
        "Сначала рассмотрим каждый признак совместно с целевым по количеству"
      ],
      "metadata": {
        "id": "2EpJXDQyfKtS"
      }
    },
    {
      "cell_type": "code",
      "source": [
        "sns.set_theme()\n",
        "palette = {'recurrence-events': 'C0', 'no-recurrence-events': 'C1'}"
      ],
      "metadata": {
        "id": "z0o8NEXVIZd1"
      },
      "execution_count": 8,
      "outputs": []
    },
    {
      "cell_type": "code",
      "source": [
        "fig, axes = plt.subplots(3, 3, figsize=(20,15))\n",
        "fig.suptitle('Распределения признаков относительно целевого', size=15)\n",
        "\n",
        "sns.countplot(ax=axes[0,0], x=\"age\", hue='class', data=df_prep, palette=palette)\n",
        "sns.countplot(ax=axes[0,1], x=\"menopause\", hue='class', data=df_prep, palette=palette)\n",
        "sns.countplot(ax=axes[0,2], x=\"tumor_size\", hue='class', data=df_prep, palette=palette)\n",
        "sns.countplot(ax=axes[1,0], x=\"inv_nodes\", hue='class', data=df_prep, palette=palette)\n",
        "sns.countplot(ax=axes[1,1], x=\"node_caps\", hue='class', data=df_prep, palette=palette)\n",
        "sns.countplot(ax=axes[1,2], x=\"deg_malig\", hue='class', data=df_prep, palette=palette)\n",
        "sns.countplot(ax=axes[2,0], x=\"breast\", hue='class', data=df_prep, palette=palette)\n",
        "sns.countplot(ax=axes[2,1], x=\"breast_quad\", hue='class', data=df_prep, palette=palette)\n",
        "sns.countplot(ax=axes[2,2], x=\"irradiat\", hue='class', data=df_prep, palette=palette)\n",
        "\n",
        "pass"
      ],
      "metadata": {
        "colab": {
          "base_uri": "https://localhost:8080/",
          "height": 988
        },
        "id": "TZPTFuQFqAaS",
        "outputId": "7e286c1e-6f47-49d0-9497-9b1e9e245ad0"
      },
      "execution_count": 9,
      "outputs": [
        {
          "output_type": "display_data",
          "data": {
            "text/plain": [
              "<Figure size 1440x1080 with 9 Axes>"
            ],
            "image/png": "[encoded data removed]"
          },
          "metadata": {}
        }
      ]
    },
    {
      "cell_type": "markdown",
      "source": [
        "А также рассмотрим каждый признак в процентном соотношении с таргетом"
      ],
      "metadata": {
        "id": "7oZKVbzmCx99"
      }
    },
    {
      "cell_type": "code",
      "source": [
        "columns = df_prep.columns.drop('class')\n",
        "list_of_dataframes = list()\n",
        "\n",
        "for col in columns:\n",
        "  data = df_prep.groupby(col)['class'].value_counts(normalize=True).mul(100).rename('Percent').reset_index() #группируем датафрейм по таргету, берем количество значений,\n",
        "  list_of_dataframes.append(data)                                                                            #умножаем на 100, получаем проценты, сохраняем в лист\n",
        "\n",
        "list_of_dataframes[0]"
      ],
      "metadata": {
        "colab": {
          "base_uri": "https://localhost:8080/",
          "height": 300
        },
        "id": "H-ZptRA9lcSd",
        "outputId": "8dd9ee35-e138-41c5-d031-22d430b8ee40"
      },
      "execution_count": 10,
      "outputs": [
        {
          "output_type": "execute_result",
          "data": {
            "text/plain": [
              "     age                 class    Percent\n",
              "0  20-39  no-recurrence-events  59.459459\n",
              "1  20-39     recurrence-events  40.540541\n",
              "2  40-49  no-recurrence-events  70.000000\n",
              "3  40-49     recurrence-events  30.000000\n",
              "4  50-59  no-recurrence-events  73.958333\n",
              "5  50-59     recurrence-events  26.041667\n",
              "6  60-79  no-recurrence-events  71.428571\n",
              "7  60-79     recurrence-events  28.571429"
            ],
            "text/html": [
              "<div>\n",
              "<style scoped>\n",
              "    .dataframe tbody tr th:only-of-type {\n",
              "        vertical-align: middle;\n",
              "    }\n",
              "\n",
              "    .dataframe tbody tr th {\n",
              "        vertical-align: top;\n",
              "    }\n",
              "\n",
              "    .dataframe thead th {\n",
              "        text-align: right;\n",
              "    }\n",
              "</style>\n",
              "<table border=\"1\" class=\"dataframe\">\n",
              "  <thead>\n",
              "    <tr style=\"text-align: right;\">\n",
              "      <th></th>\n",
              "      <th>age</th>\n",
              "      <th>class</th>\n",
              "      <th>Percent</th>\n",
              "    </tr>\n",
              "  </thead>\n",
              "  <tbody>\n",
              "    <tr>\n",
              "      <th>0</th>\n",
              "      <td>20-39</td>\n",
              "      <td>no-recurrence-events</td>\n",
              "      <td>59.459459</td>\n",
              "    </tr>\n",
              "    <tr>\n",
              "      <th>1</th>\n",
              "      <td>20-39</td>\n",
              "      <td>recurrence-events</td>\n",
              "      <td>40.540541</td>\n",
              "    </tr>\n",
              "    <tr>\n",
              "      <th>2</th>\n",
              "      <td>40-49</td>\n",
              "      <td>no-recurrence-events</td>\n",
              "      <td>70.000000</td>\n",
              "    </tr>\n",
              "    <tr>\n",
              "      <th>3</th>\n",
              "      <td>40-49</td>\n",
              "      <td>recurrence-events</td>\n",
              "      <td>30.000000</td>\n",
              "    </tr>\n",
              "    <tr>\n",
              "      <th>4</th>\n",
              "      <td>50-59</td>\n",
              "      <td>no-recurrence-events</td>\n",
              "      <td>73.958333</td>\n",
              "    </tr>\n",
              "    <tr>\n",
              "      <th>5</th>\n",
              "      <td>50-59</td>\n",
              "      <td>recurrence-events</td>\n",
              "      <td>26.041667</td>\n",
              "    </tr>\n",
              "    <tr>\n",
              "      <th>6</th>\n",
              "      <td>60-79</td>\n",
              "      <td>no-recurrence-events</td>\n",
              "      <td>71.428571</td>\n",
              "    </tr>\n",
              "    <tr>\n",
              "      <th>7</th>\n",
              "      <td>60-79</td>\n",
              "      <td>recurrence-events</td>\n",
              "      <td>28.571429</td>\n",
              "    </tr>\n",
              "  </tbody>\n",
              "</table>\n",
              "</div>"
            ]
          },
          "metadata": {},
          "execution_count": 10
        }
      ]
    },
    {
      "cell_type": "code",
      "source": [
        "fig, axes = plt.subplots(3, 3, figsize=(20,15))\n",
        "plt.setp(axes, ylim=[0,100])\n",
        "fig.suptitle('Распределения признаков относительно целевого', size=15)\n",
        "\n",
        "sns.barplot(ax=axes[0,0], x='age', y='Percent', hue='class', data=list_of_dataframes[0], palette=palette)\n",
        "sns.barplot(ax=axes[0,1], x='menopause', y='Percent', hue='class', data=list_of_dataframes[1], palette=palette)\n",
        "sns.barplot(ax=axes[0,2], x='tumor_size', y='Percent', hue='class', data=list_of_dataframes[2], palette=palette)\n",
        "sns.barplot(ax=axes[1,0], x='inv_nodes', y='Percent', hue='class', data=list_of_dataframes[3], palette=palette)\n",
        "sns.barplot(ax=axes[1,1], x='node_caps', y='Percent', hue='class', data=list_of_dataframes[4], palette=palette)\n",
        "sns.barplot(ax=axes[1,2], x='deg_malig', y='Percent', hue='class', data=list_of_dataframes[5], palette=palette)\n",
        "sns.barplot(ax=axes[2,0], x='breast', y='Percent', hue='class', data=list_of_dataframes[6], palette=palette)\n",
        "sns.barplot(ax=axes[2,1], x='breast_quad', y='Percent', hue='class', data=list_of_dataframes[7], palette=palette)\n",
        "sns.barplot(ax=axes[2,2], x='irradiat', y='Percent', hue='class', data=list_of_dataframes[8], palette=palette)\n",
        "\n",
        "pass"
      ],
      "metadata": {
        "colab": {
          "base_uri": "https://localhost:8080/",
          "height": 988
        },
        "id": "1JTf21X8n8Jz",
        "outputId": "06e8df08-029c-489e-be21-05a0d2928221"
      },
      "execution_count": 11,
      "outputs": [
        {
          "output_type": "display_data",
          "data": {
            "text/plain": [
              "<Figure size 1440x1080 with 9 Axes>"
            ],
            "image/png": "[encoded data removed]"
          },
          "metadata": {}
        }
      ]
    },
    {
      "cell_type": "markdown",
      "source": [
        "Нормализованное значение признаков показывает, что, вероятно, не все они будут значимы для обучения модели. Такие признаки, как `menopause`, `breast` и `breast_quad` показывают одинаковое соотношение целевого признака внутри каждой категории. Такой результат вполне логичен и ожидаем, потому что сомнительно, чтобы вероятность рецедива заболевания зависела от этих признаков.    \n",
        "В свою очередь ряд признаков, таких как `tumor_size`, `inv_nodes`, `node_caps`, `deg_malig` и `irradiat` показывают увеличение процента пациентов с рецедивом в зависимости от значения признака. С высокой долей вероятности эти признаки окажутся решающими при построении модели.   \n",
        "**Вывод:** необходимо произвести взвешивание признаков после их кодирования и сравнить метрики модели до и после выбора признаков."
      ],
      "metadata": {
        "id": "aV0n2cf5DAtG"
      }
    },
    {
      "cell_type": "markdown",
      "source": [
        "## Работа с признаками"
      ],
      "metadata": {
        "id": "0i1gBTqwNCmo"
      }
    },
    {
      "cell_type": "code",
      "source": [
        "df_prep.info()"
      ],
      "metadata": {
        "colab": {
          "base_uri": "https://localhost:8080/"
        },
        "id": "eJ2JeURuNlIG",
        "outputId": "5269c4e4-2927-4291-b18f-04b6eeb9785c"
      },
      "execution_count": 12,
      "outputs": [
        {
          "output_type": "stream",
          "name": "stdout",
          "text": [
            "<class 'pandas.core.frame.DataFrame'>\n",
            "RangeIndex: 286 entries, 0 to 285\n",
            "Data columns (total 10 columns):\n",
            " #   Column       Non-Null Count  Dtype \n",
            "---  ------       --------------  ----- \n",
            " 0   age          286 non-null    object\n",
            " 1   menopause    286 non-null    object\n",
            " 2   tumor_size   286 non-null    object\n",
            " 3   inv_nodes    286 non-null    object\n",
            " 4   node_caps    286 non-null    object\n",
            " 5   deg_malig    286 non-null    int64 \n",
            " 6   breast       286 non-null    object\n",
            " 7   breast_quad  286 non-null    object\n",
            " 8   irradiat     286 non-null    object\n",
            " 9   class        286 non-null    object\n",
            "dtypes: int64(1), object(9)\n",
            "memory usage: 22.5+ KB\n"
          ]
        }
      ]
    },
    {
      "cell_type": "markdown",
      "source": [
        "Прежде чем обучать модель, необходимо закодировать признаки. Все признаки, кроме `deg_malign`, - категориальные, часть из них - номинальные, другие - порядковые.   \n",
        "Для номинальных признаков используем OneHotEncoder, для порядковых - OrdinaryEncoder. В случае последних проследим, чтобы энкодер присваивал нужные значения каждому из признаков.   \n",
        "Кроме того, используя LabelBinarizer до сплита преобразуем бинарные признаки `irradiat` и `class`.\n",
        "Как мы указали выше, в нашей выборке присутствует дисбаланс классов в целевом признаке (70:30). Используем технику SMOTE для избавления от дисбаланса классов.   \n",
        "Прежде необходимо разбить датасет на признаки и таргет, а после - на обучающую и тестовую выборки.   "
      ],
      "metadata": {
        "id": "_SGPJIeFNZbP"
      }
    },
    {
      "cell_type": "code",
      "source": [
        "X = df_prep.drop('class', axis=1)\n",
        "y = df_prep['class']"
      ],
      "metadata": {
        "id": "ktccRCj0OEYF"
      },
      "execution_count": 13,
      "outputs": []
    },
    {
      "cell_type": "code",
      "source": [
        "X_train, X_test, y_train, y_test = train_test_split(\n",
        "    X,\n",
        "    y,\n",
        "    test_size=0.3,\n",
        "    stratify=y,\n",
        "    random_state=47\n",
        ")\n",
        "\n",
        "print(f'Обучающая выборка: {X_train.shape}')\n",
        "print(f'Обучающий таргет: {y_train.shape}')\n",
        "print(f'Тестовая выборка: {X_test.shape}')\n",
        "print(f'Тестовый таргет: {y_test.shape}')"
      ],
      "metadata": {
        "colab": {
          "base_uri": "https://localhost:8080/"
        },
        "id": "VWQl8Hegk33c",
        "outputId": "8fe15934-afbd-47a8-be18-481702ca5627"
      },
      "execution_count": 14,
      "outputs": [
        {
          "output_type": "stream",
          "name": "stdout",
          "text": [
            "Обучающая выборка: (200, 9)\n",
            "Обучающий таргет: (200,)\n",
            "Тестовая выборка: (86, 9)\n",
            "Тестовый таргет: (86,)\n"
          ]
        }
      ]
    },
    {
      "cell_type": "markdown",
      "source": [
        "Отдельно закодируем целевой признак, используя LabelBinarizer()"
      ],
      "metadata": {
        "id": "CsmKF_WypYhe"
      }
    },
    {
      "cell_type": "code",
      "source": [
        "label = LabelBinarizer()\n",
        "y_train = label.fit_transform(y_train)\n",
        "y_test = label.transform(y_test)\n",
        "y_train.shape"
      ],
      "metadata": {
        "colab": {
          "base_uri": "https://localhost:8080/"
        },
        "id": "4vbzh_j3peSV",
        "outputId": "153666cf-b1c7-4b49-d402-7c7649ab511b"
      },
      "execution_count": 15,
      "outputs": [
        {
          "output_type": "execute_result",
          "data": {
            "text/plain": [
              "(200, 1)"
            ]
          },
          "metadata": {},
          "execution_count": 15
        }
      ]
    },
    {
      "cell_type": "markdown",
      "source": [
        "Для обработки признаков применим следующую обработку признаков:   \n",
        "для порядковых (`age`, `tumor_size`, `inv_nodes`, `node_caps`, `irradiat`) используем OrdinalEncoder,   \n",
        "для номинальных (`menopause`, `breast`, `breast_quad`) используем OneHotEncoder.   \n",
        "   \n",
        "Соберем все преобразования в класс ColumnTransformer"
      ],
      "metadata": {
        "id": "eSK9C1W_rePf"
      }
    },
    {
      "cell_type": "code",
      "source": [
        "ord_features = X[['age', 'tumor_size', 'inv_nodes', 'node_caps', 'irradiat']].columns\n",
        "nom_features = X[['menopause', 'breast', 'breast_quad']].columns"
      ],
      "metadata": {
        "id": "ygLB4_M0Yo-y"
      },
      "execution_count": 16,
      "outputs": []
    },
    {
      "cell_type": "code",
      "source": [
        "preprocessing = ColumnTransformer(\n",
        "    transformers=[\n",
        "                  ('ord', OrdinalEncoder(), ord_features),\n",
        "                  ('nom', OneHotEncoder(), nom_features)],\n",
        "                  remainder='passthrough')"
      ],
      "metadata": {
        "id": "dXjgm1jPaOqs"
      },
      "execution_count": 17,
      "outputs": []
    },
    {
      "cell_type": "markdown",
      "source": [
        "### Дисбаланс классов"
      ],
      "metadata": {
        "id": "7elvpz7jOKYg"
      }
    },
    {
      "cell_type": "markdown",
      "source": [
        "Как было указано выше, в нашей выборке присутствует дисбаланс классов (~70:30), который будет отрицательно влиять на прогнозы моделей.   \n",
        "Для устранения проблемы мы воспользуемся библиотекой imblearn, а именно - классом SMOTEN, который работает с категориальными переменными.     \n",
        "Начнем собирать пайплайн, в который включим ColumnTransformer, созданный ранее"
      ],
      "metadata": {
        "id": "-PgRB5WuhSxT"
      }
    },
    {
      "cell_type": "code",
      "source": [
        "smoten = SMOTEN(random_state=47, n_jobs=-1)\n",
        "pipe = Pipeline(steps=[('preprocessing', preprocessing),\n",
        "                       ('SMOTEN', smoten)])"
      ],
      "metadata": {
        "id": "UWvh3XBcOKg9"
      },
      "execution_count": 18,
      "outputs": []
    },
    {
      "cell_type": "markdown",
      "source": [
        "## Подбор моделей и гиперпараметров"
      ],
      "metadata": {
        "id": "3J7zEXWxy7mx"
      }
    },
    {
      "cell_type": "markdown",
      "source": [
        "Данные готовы к подбору и обучению моделей.   \n",
        "Перед нами стоит задача классификации. Оценивать модели будем по логлоссу (так как нас интересуют вероятности, а не лейблы).   \n",
        "Сначала обучим простые модели со стандартными гиперпараметрами и оценим метрику используя кросс-валидацию по 10 блокам"
      ],
      "metadata": {
        "id": "cScQR4G1z584"
      }
    },
    {
      "cell_type": "code",
      "source": [
        "'''\n",
        "Функция принимает на вход признаки, таргет и метрику.\n",
        "Подготавливает лист из классификаторов, после для каждого проводит стратифицированную\n",
        "кросс-валидацию по 10 блокам.\n",
        "Возвращает словарь типа {имя классификатора: значение метрики}\n",
        "\n",
        "'''\n",
        "\n",
        "def classifiers_validation(features, target, preprocessing, disbalance, metric):\n",
        "  rs = 47\n",
        "  classifiers = [\n",
        "                LogisticRegression(random_state=rs, solver='liblinear', penalty='l2'),\n",
        "                SVC(kernel='linear', C=1.0, probability=True, random_state=rs),\n",
        "                KNeighborsClassifier(n_jobs=-1),\n",
        "                CategoricalNB(),\n",
        "                DecisionTreeClassifier(criterion='entropy', random_state=rs),\n",
        "                RandomForestClassifier(criterion='entropy', random_state=rs)\n",
        "  ]\n",
        "\n",
        "  scoring = metric\n",
        "  models_and_scores = {}\n",
        "\n",
        "  for classifier in classifiers:\n",
        "    pipe = Pipeline(steps=[('preprocessing', preprocessing),\n",
        "                        ('disbalance', disbalance),\n",
        "                        ('classifier', classifier)])\n",
        "    cv = StratifiedKFold(n_splits=10, random_state=1, shuffle=True)\n",
        "    score = cross_val_score(pipe, features, target, \n",
        "                            scoring=scoring, cv=cv, n_jobs=-1)\n",
        "    models_and_scores.update({classifier.__class__.__name__: -score.mean()})\n",
        "  \n",
        "  const_05 = [0.5 for _ in y_train]                                                # После оверсэмплинга распределение классов 1:1,\n",
        "  models_and_scores.update({'Constant prediction': log_loss(y_train, const_05)})   # поэтому берем вероятность каждого класса 0.5\n",
        "\n",
        "  return models_and_scores"
      ],
      "metadata": {
        "id": "khx8rEpd0zOw"
      },
      "execution_count": 19,
      "outputs": []
    },
    {
      "cell_type": "code",
      "source": [
        "log_smoten = classifiers_validation(X_train, y_train, preprocessing, \n",
        "                                   smoten, 'neg_log_loss')\n",
        "log_smoten"
      ],
      "metadata": {
        "id": "41cHA2u9qm5i",
        "colab": {
          "base_uri": "https://localhost:8080/"
        },
        "outputId": "e65837e7-3194-480e-aef3-4c2039da6cf1"
      },
      "execution_count": 20,
      "outputs": [
        {
          "output_type": "execute_result",
          "data": {
            "text/plain": [
              "{'LogisticRegression': 0.6344695636124957,\n",
              " 'SVC': 0.6110975575551658,\n",
              " 'KNeighborsClassifier': 1.9401705520930512,\n",
              " 'CategoricalNB': 0.807060363532813,\n",
              " 'DecisionTreeClassifier': 12.44103490151088,\n",
              " 'RandomForestClassifier': 0.7884614810774756,\n",
              " 'Constant prediction': 0.6931471805599452}"
            ]
          },
          "metadata": {},
          "execution_count": 20
        }
      ]
    },
    {
      "cell_type": "markdown",
      "source": [
        "Значения логлосса у базовых классификаторов неутешительные - они хуже или немногим лучше случайного предсказания. Лучше всего себя показали метод опорных векторов и линейная регрессия.    \n",
        "Попробуем заменить способ борьбы с дисбалансом - заменим SMOTEN на метод обычного оверсэмплинга"
      ],
      "metadata": {
        "id": "Qrgv0H-Fb3Is"
      }
    },
    {
      "cell_type": "code",
      "source": [
        "oversample = RandomOverSampler(random_state=47)"
      ],
      "metadata": {
        "id": "3nbnJR4RmjZb"
      },
      "execution_count": 21,
      "outputs": []
    },
    {
      "cell_type": "code",
      "source": [
        "log_over = classifiers_validation(X_train, y_train, preprocessing, \n",
        "                                 oversample, 'neg_log_loss')\n",
        "log_over"
      ],
      "metadata": {
        "colab": {
          "base_uri": "https://localhost:8080/"
        },
        "id": "Sptxn7JkiSpe",
        "outputId": "051dcea9-647b-4574-81b4-b046e92e7a4a"
      },
      "execution_count": 22,
      "outputs": [
        {
          "output_type": "execute_result",
          "data": {
            "text/plain": [
              "{'LogisticRegression': 0.6887126261667321,\n",
              " 'SVC': 0.6688933957310346,\n",
              " 'KNeighborsClassifier': 2.753698885492715,\n",
              " 'CategoricalNB': 0.7522740922371864,\n",
              " 'DecisionTreeClassifier': 10.884738650276452,\n",
              " 'RandomForestClassifier': 0.6220367685327607,\n",
              " 'Constant prediction': 0.6931471805599452}"
            ]
          },
          "metadata": {},
          "execution_count": 22
        }
      ]
    },
    {
      "cell_type": "markdown",
      "source": [
        "После изменения мы получили  прирост значений лосса у леса, но потеряли у других классификаторов. Попробуем разобраться в признаках и подобрать необходимые для поставленной задачи"
      ],
      "metadata": {
        "id": "dV0Si9i5iYUG"
      }
    },
    {
      "cell_type": "markdown",
      "source": [
        "## Feature selection"
      ],
      "metadata": {
        "id": "UHhjnDbBn0GP"
      }
    },
    {
      "cell_type": "markdown",
      "source": [
        "Базовые модели слабо показывают себя на данном датасете. Частично это влияние малого количества обучающих данных. Предположим, что не все признаки одинаково полезны для обучения моделей - некоторые вносят ненужное нам смещение.   \n",
        "\n",
        "Воспользуемся двумя методами feature selection - хи-квадрат пирсона и статистика взаимной информации"
      ],
      "metadata": {
        "id": "UISlmKadn3kf"
      }
    },
    {
      "cell_type": "markdown",
      "source": [
        "###Chi-square feature selection:"
      ],
      "metadata": {
        "id": "tQ0OTAK1hVDk"
      }
    },
    {
      "cell_type": "markdown",
      "source": [
        "Используем класс SelectKBest с аргументом score_func=chi2 для получения скоров для каждого признака"
      ],
      "metadata": {
        "id": "L3Wzy-uNhZ2K"
      }
    },
    {
      "cell_type": "code",
      "source": [
        "k_best_chi = SelectKBest(score_func=chi2, k='all')"
      ],
      "metadata": {
        "id": "kxIb5OefiJRG"
      },
      "execution_count": 23,
      "outputs": []
    },
    {
      "cell_type": "code",
      "source": [
        "pipe = Pipeline(steps=[('preprocessing', preprocessing),\n",
        "                      ('k_best_chi', k_best_chi)])\n",
        "pipe.fit(X_train, y_train)\n",
        "chi_scores = np.around(pipe[1].scores_, decimals=3)"
      ],
      "metadata": {
        "id": "2ISvbaBJr54D"
      },
      "execution_count": 24,
      "outputs": []
    },
    {
      "cell_type": "code",
      "source": [
        "for i, name in enumerate(chi_scores):\n",
        "  print(f'Признак {i}: {name}')"
      ],
      "metadata": {
        "colab": {
          "base_uri": "https://localhost:8080/"
        },
        "id": "73pWZ-CLkjGU",
        "outputId": "4a9c1e64-9635-4fac-9128-729fdb6c1793"
      },
      "execution_count": 25,
      "outputs": [
        {
          "output_type": "stream",
          "name": "stdout",
          "text": [
            "Признак 0: 0.196\n",
            "Признак 1: 5.276\n",
            "Признак 2: 28.291\n",
            "Признак 3: 11.506\n",
            "Признак 4: 7.56\n",
            "Признак 5: 0.179\n",
            "Признак 6: 0.265\n",
            "Признак 7: 0.095\n",
            "Признак 8: 0.302\n",
            "Признак 9: 0.393\n",
            "Признак 10: 0.291\n",
            "Признак 11: 0.158\n",
            "Признак 12: 1.258\n",
            "Признак 13: 0.002\n",
            "Признак 14: 2.051\n",
            "Признак 15: 3.621\n"
          ]
        }
      ]
    },
    {
      "cell_type": "code",
      "source": [
        "fig = plt.figure(figsize=(10,8))\n",
        "plt.title('Скор признаков по статистике хи-квадрат', size=15)\n",
        "y_data = np.around([1,2,3,11], decimals=1)\n",
        "ax = sns.barplot(x=list(range(len(chi_scores))), y = chi_scores)\n",
        "plt.bar_label(ax.containers[0])\n",
        "pass"
      ],
      "metadata": {
        "colab": {
          "base_uri": "https://localhost:8080/",
          "height": 502
        },
        "id": "hBCaE-XKkxps",
        "outputId": "d60984b8-e001-450c-f130-ec3ee45e7f6c"
      },
      "execution_count": 26,
      "outputs": [
        {
          "output_type": "display_data",
          "data": {
            "text/plain": [
              "<Figure size 720x576 with 1 Axes>"
            ],
            "image/png": "[encoded data removed]"
          },
          "metadata": {}
        }
      ]
    },
    {
      "cell_type": "code",
      "source": [
        "out_ind = pipe['preprocessing'].output_indices_ #нам важно понимать, какая колонка содержит какие признаки после \n",
        "trans = pipe['preprocessing'].transformers_     #трансформации "
      ],
      "metadata": {
        "id": "pGx5jNUclvtO"
      },
      "execution_count": 27,
      "outputs": []
    },
    {
      "cell_type": "code",
      "source": [
        "print(out_ind, '\\n')\n",
        "print(trans)"
      ],
      "metadata": {
        "colab": {
          "base_uri": "https://localhost:8080/"
        },
        "id": "d1U8emu-mqxE",
        "outputId": "6347be04-7f52-48b2-c0f1-f1cf70c70a0f"
      },
      "execution_count": 28,
      "outputs": [
        {
          "output_type": "stream",
          "name": "stdout",
          "text": [
            "{'ord': slice(0, 5, None), 'nom': slice(5, 15, None), 'remainder': slice(15, 16, None)} \n",
            "\n",
            "[('ord', OrdinalEncoder(), Index(['age', 'tumor_size', 'inv_nodes', 'node_caps', 'irradiat'], dtype='object')), ('nom', OneHotEncoder(), Index(['menopause', 'breast', 'breast_quad'], dtype='object')), ('remainder', 'passthrough', [5])]\n"
          ]
        }
      ]
    },
    {
      "cell_type": "markdown",
      "source": [
        "Как мы видим на графике, согласно данному методу отбора признаков, больше всего целевой признак зависит от размера опухоли, количества вовлеченных метастатически узлов, наличия экстракапсулярного распространения метастаза, степени злокачественности рака молочной железы, проведения лучевой терапии. Некая (но весьма слабая) зависимость прослеживается между отдельными значениями квадранта молочной железы.   \n",
        "Такие признаки, как возраст, менструальный статус, локализация узла слева или справа согласно данной статистике не влияют на целевой признак.   \n",
        "Удалим признаки, которые имеют слабое влияние на таргет. Сохраним копии датасета и позднее обучим модели и на них тоже для сравнения перформанса"
      ],
      "metadata": {
        "id": "2QnkOQTsuYC-"
      }
    },
    {
      "cell_type": "code",
      "source": [
        "X_chi = df_prep.drop(['age', 'menopause', 'breast', 'class'], axis=1)\n",
        "X_train_chi, X_test_chi, y_train_chi, y_test_chi = train_test_split(X_chi, y, \n",
        "                                                                    test_size=0.3,\n",
        "                                                                    stratify=y,\n",
        "                                                                    random_state=47)"
      ],
      "metadata": {
        "id": "-EqRRiN2yf_-"
      },
      "execution_count": 29,
      "outputs": []
    },
    {
      "cell_type": "code",
      "source": [
        "label = LabelBinarizer()\n",
        "y_train_chi = label.fit_transform(y_train_chi)\n",
        "y_test_chi = label.transform(y_test_chi)\n",
        "y_train_chi.shape"
      ],
      "metadata": {
        "colab": {
          "base_uri": "https://localhost:8080/"
        },
        "id": "hOuG4DcJKEbh",
        "outputId": "43d3a589-3d35-4f94-fe0f-ec5d5d5765cd"
      },
      "execution_count": 30,
      "outputs": [
        {
          "output_type": "execute_result",
          "data": {
            "text/plain": [
              "(200, 1)"
            ]
          },
          "metadata": {},
          "execution_count": 30
        }
      ]
    },
    {
      "cell_type": "markdown",
      "source": [
        "### Mutual Information Feature Selection"
      ],
      "metadata": {
        "id": "mIb6Hvqv1ts5"
      }
    },
    {
      "cell_type": "code",
      "source": [
        "k_best_mut = SelectKBest(score_func=mutual_info_classif, k='all')"
      ],
      "metadata": {
        "id": "L3E-vl1zyhEf"
      },
      "execution_count": 31,
      "outputs": []
    },
    {
      "cell_type": "code",
      "source": [
        "pipe = Pipeline(steps=[('preprocessing', preprocessing),\n",
        "                      ('k_best_mut', k_best_mut)])\n",
        "pipe.fit(X_train, y_train)\n",
        "mut_scores = np.around(pipe[1].scores_, decimals=3)"
      ],
      "metadata": {
        "id": "7wy4GdIB_HFT"
      },
      "execution_count": 32,
      "outputs": []
    },
    {
      "cell_type": "code",
      "source": [
        "for i, name in enumerate(mut_scores):\n",
        "  print(f'Признак {i}: {name}')"
      ],
      "metadata": {
        "colab": {
          "base_uri": "https://localhost:8080/"
        },
        "id": "yAULtvnP_QsM",
        "outputId": "5696a8eb-dd77-45e2-c8f4-2b2fa5bb5826"
      },
      "execution_count": 33,
      "outputs": [
        {
          "output_type": "stream",
          "name": "stdout",
          "text": [
            "Признак 0: 0.0\n",
            "Признак 1: 0.019\n",
            "Признак 2: 0.017\n",
            "Признак 3: 0.043\n",
            "Признак 4: 0.024\n",
            "Признак 5: 0.033\n",
            "Признак 6: 0.0\n",
            "Признак 7: 0.0\n",
            "Признак 8: 0.0\n",
            "Признак 9: 0.026\n",
            "Признак 10: 0.0\n",
            "Признак 11: 0.0\n",
            "Признак 12: 0.052\n",
            "Признак 13: 0.0\n",
            "Признак 14: 0.031\n",
            "Признак 15: 0.0\n"
          ]
        }
      ]
    },
    {
      "cell_type": "code",
      "source": [
        "fig = plt.figure(figsize=(10,8))\n",
        "plt.title('Скор признаков по взаимной информации', size=15)\n",
        "y_data = np.around([1,2,3,11], decimals=1)\n",
        "ax = sns.barplot(x=list(range(len(mut_scores))), y = mut_scores)\n",
        "plt.bar_label(ax.containers[0])\n",
        "pass"
      ],
      "metadata": {
        "colab": {
          "base_uri": "https://localhost:8080/",
          "height": 502
        },
        "id": "qkkLNGC8_X05",
        "outputId": "6e83f274-b2f3-41b2-8792-a97c4bc93b45"
      },
      "execution_count": 34,
      "outputs": [
        {
          "output_type": "display_data",
          "data": {
            "text/plain": [
              "<Figure size 720x576 with 1 Axes>"
            ],
            "image/png": "[encoded data removed]"
          },
          "metadata": {}
        }
      ]
    },
    {
      "cell_type": "code",
      "source": [
        "out_ind = pipe['preprocessing'].output_indices_ \n",
        "trans = pipe['preprocessing'].transformers_ \n",
        "\n",
        "print(out_ind, '\\n')\n",
        "print(trans)"
      ],
      "metadata": {
        "colab": {
          "base_uri": "https://localhost:8080/"
        },
        "id": "CybB-asH_tDC",
        "outputId": "318d8508-7406-432c-f47a-b9ea1046a729"
      },
      "execution_count": 35,
      "outputs": [
        {
          "output_type": "stream",
          "name": "stdout",
          "text": [
            "{'ord': slice(0, 5, None), 'nom': slice(5, 15, None), 'remainder': slice(15, 16, None)} \n",
            "\n",
            "[('ord', OrdinalEncoder(), Index(['age', 'tumor_size', 'inv_nodes', 'node_caps', 'irradiat'], dtype='object')), ('nom', OneHotEncoder(), Index(['menopause', 'breast', 'breast_quad'], dtype='object')), ('remainder', 'passthrough', [5])]\n"
          ]
        }
      ]
    },
    {
      "cell_type": "markdown",
      "source": [
        "Согласно этому способу отбора признаков, значимыми являются такие признаки, как 'tumor_size', 'inv_nodes', 'node_caps', 'irradiat'. Кроме того, в отличие от хи-квадрата, признаки 'menopause' и 'breast_quad' также важны для таргета, а вот признак 'malign_degree' - нет.   \n",
        "\n",
        "Также создадим новые обучающие и тестовые выборки для данного метода"
      ],
      "metadata": {
        "id": "jIyimhpzASNi"
      }
    },
    {
      "cell_type": "code",
      "source": [
        "X_mut = df_prep.drop(['age', 'breast', 'deg_malig', 'class'], axis=1)\n",
        "X_train_mut, X_test_mut, y_train_mut, y_test_mut = train_test_split(X_mut, y, \n",
        "                                                                    test_size=0.3,\n",
        "                                                                    stratify=y,\n",
        "                                                                    random_state=47)"
      ],
      "metadata": {
        "id": "CITNE_ELBHb8"
      },
      "execution_count": 36,
      "outputs": []
    },
    {
      "cell_type": "code",
      "source": [
        "label = LabelBinarizer()\n",
        "y_train_mut = label.fit_transform(y_train_mut)\n",
        "y_test_mut = label.transform(y_test_mut)\n",
        "y_train_mut.shape"
      ],
      "metadata": {
        "colab": {
          "base_uri": "https://localhost:8080/"
        },
        "id": "6pvdn7OeKLpS",
        "outputId": "708fa2b9-5114-43b0-a1d5-1ef20c9c0d42"
      },
      "execution_count": 37,
      "outputs": [
        {
          "output_type": "execute_result",
          "data": {
            "text/plain": [
              "(200, 1)"
            ]
          },
          "metadata": {},
          "execution_count": 37
        }
      ]
    },
    {
      "cell_type": "markdown",
      "source": [
        "## Проверка новых выборок "
      ],
      "metadata": {
        "id": "0xgrE3QSBYMC"
      }
    },
    {
      "cell_type": "markdown",
      "source": [
        "Прежде, чем проверять метрики на моделях, необходимо внести изменения в пайплайн"
      ],
      "metadata": {
        "id": "KI5BPTFwBwZD"
      }
    },
    {
      "cell_type": "code",
      "source": [
        "ord_features_chi = X[['tumor_size', 'inv_nodes', 'node_caps', 'irradiat']].columns\n",
        "nom_features_chi = X[['breast_quad']].columns\n",
        "\n",
        "preprocessing_chi = ColumnTransformer(\n",
        "    transformers=[\n",
        "                  ('ord', OrdinalEncoder(), ord_features_chi),\n",
        "                  ('nom', OneHotEncoder(), nom_features_chi)],\n",
        "                  remainder='passthrough')\n"
      ],
      "metadata": {
        "id": "-IsvZVf4B6iC"
      },
      "execution_count": 38,
      "outputs": []
    },
    {
      "cell_type": "code",
      "source": [
        "ord_features_mut = X[['tumor_size', 'inv_nodes', 'node_caps', 'irradiat']].columns\n",
        "nom_features_mut = X[['menopause', 'breast_quad']].columns\n",
        "\n",
        "preprocessing_mut = ColumnTransformer(\n",
        "    transformers=[\n",
        "                  ('ord', OrdinalEncoder(), ord_features_mut),\n",
        "                  ('nom', OneHotEncoder(), nom_features_mut)],\n",
        "                  remainder='passthrough')"
      ],
      "metadata": {
        "id": "je4S-Db5Ca6z"
      },
      "execution_count": 39,
      "outputs": []
    },
    {
      "cell_type": "code",
      "source": [
        "log_chi_smoten = classifiers_validation(X_train_chi, y_train_chi, preprocessing_chi, smoten, 'neg_log_loss')\n",
        "log_chi_smoten"
      ],
      "metadata": {
        "colab": {
          "base_uri": "https://localhost:8080/"
        },
        "id": "xEtbcFe0CKvi",
        "outputId": "75956860-3160-4e97-bb73-634fb77ab734"
      },
      "execution_count": 40,
      "outputs": [
        {
          "output_type": "execute_result",
          "data": {
            "text/plain": [
              "{'LogisticRegression': 0.6491509620053462,\n",
              " 'SVC': 0.6301230457533967,\n",
              " 'KNeighborsClassifier': 2.7095132306926666,\n",
              " 'CategoricalNB': 0.7348425780588642,\n",
              " 'DecisionTreeClassifier': 9.653139138856764,\n",
              " 'RandomForestClassifier': 0.8818754251347384,\n",
              " 'Constant prediction': 0.6931471805599452}"
            ]
          },
          "metadata": {},
          "execution_count": 40
        }
      ]
    },
    {
      "cell_type": "code",
      "source": [
        "log_chi_over = classifiers_validation(X_train_chi, y_train_chi, preprocessing_chi, oversample, 'neg_log_loss')\n",
        "log_chi_over"
      ],
      "metadata": {
        "colab": {
          "base_uri": "https://localhost:8080/"
        },
        "id": "HL3oD8X5FDN8",
        "outputId": "c6f945f8-7bb0-4d8c-de6e-e6ef2d3ccfab"
      },
      "execution_count": 41,
      "outputs": [
        {
          "output_type": "execute_result",
          "data": {
            "text/plain": [
              "{'LogisticRegression': 0.6714692713550334,\n",
              " 'SVC': 0.6667775289659895,\n",
              " 'KNeighborsClassifier': 3.244340992346597,\n",
              " 'CategoricalNB': 0.7351886892271249,\n",
              " 'DecisionTreeClassifier': 8.453614927518148,\n",
              " 'RandomForestClassifier': 0.8019345403585888,\n",
              " 'Constant prediction': 0.6931471805599452}"
            ]
          },
          "metadata": {},
          "execution_count": 41
        }
      ]
    },
    {
      "cell_type": "markdown",
      "source": [
        "Мы не получили значительного прироста метрики. Проверим второй метод"
      ],
      "metadata": {
        "id": "OvaenF4wFWXj"
      }
    },
    {
      "cell_type": "code",
      "source": [
        "log_mut_smoten = classifiers_validation(X_train_mut, y_train_mut, preprocessing_mut, smoten, 'neg_log_loss')\n",
        "log_mut_smoten"
      ],
      "metadata": {
        "colab": {
          "base_uri": "https://localhost:8080/"
        },
        "id": "t2qDF9zBK5R-",
        "outputId": "af23c3c4-985f-4978-c277-db0125af16fe"
      },
      "execution_count": 42,
      "outputs": [
        {
          "output_type": "execute_result",
          "data": {
            "text/plain": [
              "{'LogisticRegression': 0.6466191878784038,\n",
              " 'SVC': 0.6320865185733725,\n",
              " 'KNeighborsClassifier': 2.2181586922881715,\n",
              " 'CategoricalNB': 0.732443643128003,\n",
              " 'DecisionTreeClassifier': 8.307121202851654,\n",
              " 'RandomForestClassifier': 0.6932253492661806,\n",
              " 'Constant prediction': 0.6931471805599452}"
            ]
          },
          "metadata": {},
          "execution_count": 42
        }
      ]
    },
    {
      "cell_type": "code",
      "source": [
        "log_mut_over = classifiers_validation(X_train_mut, y_train_mut, preprocessing_mut, oversample, 'neg_log_loss')\n",
        "log_mut_over"
      ],
      "metadata": {
        "colab": {
          "base_uri": "https://localhost:8080/"
        },
        "id": "1t3aepNYF_xD",
        "outputId": "516eabc6-03f6-4f4f-bb82-372ca9d74efd"
      },
      "execution_count": 43,
      "outputs": [
        {
          "output_type": "execute_result",
          "data": {
            "text/plain": [
              "{'LogisticRegression': 0.6778441095591476,\n",
              " 'SVC': 0.6678540626652874,\n",
              " 'KNeighborsClassifier': 2.429389531705624,\n",
              " 'CategoricalNB': 0.7405101372734085,\n",
              " 'DecisionTreeClassifier': 8.313325903566772,\n",
              " 'RandomForestClassifier': 0.8914992215097172,\n",
              " 'Constant prediction': 0.6931471805599452}"
            ]
          },
          "metadata": {},
          "execution_count": 43
        }
      ]
    },
    {
      "cell_type": "markdown",
      "source": [
        "## Результаты и лучшие модели"
      ],
      "metadata": {
        "id": "QJG-n3PxHHXS"
      }
    },
    {
      "cell_type": "markdown",
      "source": [
        "Соберем результаты моделей в отдельный датафрейм"
      ],
      "metadata": {
        "id": "iUxZJVKeH5rk"
      }
    },
    {
      "cell_type": "code",
      "source": [
        "def rounding(y, n):\n",
        "    for d in y:\n",
        "        for k, v in d.items():\n",
        "            v = round(v, n)\n",
        "            d[k] = v"
      ],
      "metadata": {
        "id": "Usdv2G8sNLTs"
      },
      "execution_count": 44,
      "outputs": []
    },
    {
      "cell_type": "code",
      "source": [
        "rounding([log_smoten, log_over, log_chi_smoten, log_chi_over, log_mut_smoten, log_mut_over], 3)"
      ],
      "metadata": {
        "id": "eM1fBlm-Ncht"
      },
      "execution_count": 45,
      "outputs": []
    },
    {
      "cell_type": "code",
      "source": [
        "results = pd.DataFrame(data=[log_smoten, log_over, log_chi_smoten, log_chi_over, log_mut_smoten, log_mut_over],\n",
        "                       index=['SMOTEN', 'oversampling', 'Chi + SMOTEN', 'Chi + oversampling',\n",
        "                              'Mutual + SMOTEN', 'Mutual + oversampling'])"
      ],
      "metadata": {
        "id": "oSK_X-fjLy8O"
      },
      "execution_count": 46,
      "outputs": []
    },
    {
      "cell_type": "code",
      "source": [
        "results"
      ],
      "metadata": {
        "colab": {
          "base_uri": "https://localhost:8080/",
          "height": 238
        },
        "id": "ZOcn1VfKOg99",
        "outputId": "b7e34657-eae8-46c8-fe29-ec428f4abf13"
      },
      "execution_count": 47,
      "outputs": [
        {
          "output_type": "execute_result",
          "data": {
            "text/plain": [
              "                       LogisticRegression    SVC  KNeighborsClassifier  \\\n",
              "SMOTEN                              0.634  0.611                 1.940   \n",
              "oversampling                        0.689  0.669                 2.754   \n",
              "Chi + SMOTEN                        0.649  0.630                 2.710   \n",
              "Chi + oversampling                  0.671  0.667                 3.244   \n",
              "Mutual + SMOTEN                     0.647  0.632                 2.218   \n",
              "Mutual + oversampling               0.678  0.668                 2.429   \n",
              "\n",
              "                       CategoricalNB  DecisionTreeClassifier  \\\n",
              "SMOTEN                         0.807                  12.441   \n",
              "oversampling                   0.752                  10.885   \n",
              "Chi + SMOTEN                   0.735                   9.653   \n",
              "Chi + oversampling             0.735                   8.454   \n",
              "Mutual + SMOTEN                0.732                   8.307   \n",
              "Mutual + oversampling          0.741                   8.313   \n",
              "\n",
              "                       RandomForestClassifier  Constant prediction  \n",
              "SMOTEN                                  0.788                0.693  \n",
              "oversampling                            0.622                0.693  \n",
              "Chi + SMOTEN                            0.882                0.693  \n",
              "Chi + oversampling                      0.802                0.693  \n",
              "Mutual + SMOTEN                         0.693                0.693  \n",
              "Mutual + oversampling                   0.891                0.693  "
            ],
            "text/html": [
              "<div>\n",
              "<style scoped>\n",
              "    .dataframe tbody tr th:only-of-type {\n",
              "        vertical-align: middle;\n",
              "    }\n",
              "\n",
              "    .dataframe tbody tr th {\n",
              "        vertical-align: top;\n",
              "    }\n",
              "\n",
              "    .dataframe thead th {\n",
              "        text-align: right;\n",
              "    }\n",
              "</style>\n",
              "<table border=\"1\" class=\"dataframe\">\n",
              "  <thead>\n",
              "    <tr style=\"text-align: right;\">\n",
              "      <th></th>\n",
              "      <th>LogisticRegression</th>\n",
              "      <th>SVC</th>\n",
              "      <th>KNeighborsClassifier</th>\n",
              "      <th>CategoricalNB</th>\n",
              "      <th>DecisionTreeClassifier</th>\n",
              "      <th>RandomForestClassifier</th>\n",
              "      <th>Constant prediction</th>\n",
              "    </tr>\n",
              "  </thead>\n",
              "  <tbody>\n",
              "    <tr>\n",
              "      <th>SMOTEN</th>\n",
              "      <td>0.634</td>\n",
              "      <td>0.611</td>\n",
              "      <td>1.940</td>\n",
              "      <td>0.807</td>\n",
              "      <td>12.441</td>\n",
              "      <td>0.788</td>\n",
              "      <td>0.693</td>\n",
              "    </tr>\n",
              "    <tr>\n",
              "      <th>oversampling</th>\n",
              "      <td>0.689</td>\n",
              "      <td>0.669</td>\n",
              "      <td>2.754</td>\n",
              "      <td>0.752</td>\n",
              "      <td>10.885</td>\n",
              "      <td>0.622</td>\n",
              "      <td>0.693</td>\n",
              "    </tr>\n",
              "    <tr>\n",
              "      <th>Chi + SMOTEN</th>\n",
              "      <td>0.649</td>\n",
              "      <td>0.630</td>\n",
              "      <td>2.710</td>\n",
              "      <td>0.735</td>\n",
              "      <td>9.653</td>\n",
              "      <td>0.882</td>\n",
              "      <td>0.693</td>\n",
              "    </tr>\n",
              "    <tr>\n",
              "      <th>Chi + oversampling</th>\n",
              "      <td>0.671</td>\n",
              "      <td>0.667</td>\n",
              "      <td>3.244</td>\n",
              "      <td>0.735</td>\n",
              "      <td>8.454</td>\n",
              "      <td>0.802</td>\n",
              "      <td>0.693</td>\n",
              "    </tr>\n",
              "    <tr>\n",
              "      <th>Mutual + SMOTEN</th>\n",
              "      <td>0.647</td>\n",
              "      <td>0.632</td>\n",
              "      <td>2.218</td>\n",
              "      <td>0.732</td>\n",
              "      <td>8.307</td>\n",
              "      <td>0.693</td>\n",
              "      <td>0.693</td>\n",
              "    </tr>\n",
              "    <tr>\n",
              "      <th>Mutual + oversampling</th>\n",
              "      <td>0.678</td>\n",
              "      <td>0.668</td>\n",
              "      <td>2.429</td>\n",
              "      <td>0.741</td>\n",
              "      <td>8.313</td>\n",
              "      <td>0.891</td>\n",
              "      <td>0.693</td>\n",
              "    </tr>\n",
              "  </tbody>\n",
              "</table>\n",
              "</div>"
            ]
          },
          "metadata": {},
          "execution_count": 47
        }
      ]
    },
    {
      "cell_type": "markdown",
      "source": [
        "Лучшие модели и метод борьбы с дисбалансом:   \n",
        "1) Метод опорных векторов с синтетичесиким датасетом (SVC + SMOTEN)   \n",
        "2) Случайный лес с оверсэмплингом (RandomForestClassifier + oversample)   \n",
        "3) Логистическая регрессия с синтетическим датасетом (LogisticRegression + SMOTEN)      \n",
        "\n",
        "При этом значение потери для каждой из модели не сильно отличается от константого предсказания - \n",
        "разница составляет около 12% для лучшей модели.   \n",
        "Возьмем три лучшие модели и попробуем их настроить"
      ],
      "metadata": {
        "id": "3umyxGckOjzV"
      }
    },
    {
      "cell_type": "code",
      "source": [
        "lr = LogisticRegression(random_state=47, solver='liblinear')\n",
        "\n",
        "pipe = Pipeline(steps=[('preprocessing', preprocessing),\n",
        "                        ('disbalance', smoten),\n",
        "                        ('classifier', lr)])\n",
        "params = {\n",
        "    'classifier__penalty': ['l1', 'l2'],\n",
        "    'classifier__C': np.logspace(-4, 4, 20)\n",
        "}\n",
        "\n",
        "grid = GridSearchCV(pipe, param_grid=params, scoring='neg_log_loss', n_jobs=-1, cv=5, refit=True)\n",
        "grid.fit(X_train, y_train)\n",
        "print(f'Лучший logloss: {-grid.best_score_}')\n",
        "print(grid.best_params_)"
      ],
      "metadata": {
        "colab": {
          "base_uri": "https://localhost:8080/"
        },
        "id": "BwdyFrxbHEmO",
        "outputId": "33c2b454-49f0-48e7-9acb-55bb68fc4972"
      },
      "execution_count": 48,
      "outputs": [
        {
          "output_type": "stream",
          "name": "stdout",
          "text": [
            "Лучший logloss: 0.6255916631487363\n",
            "{'classifier__C': 0.615848211066026, 'classifier__penalty': 'l1'}\n"
          ]
        }
      ]
    },
    {
      "cell_type": "markdown",
      "source": [
        "Значение метрики не выше случайного леса или опорных векторов.   \n",
        "Попробуем повторить процедуру для этих двух моделей"
      ],
      "metadata": {
        "id": "NlZwHSdpILLl"
      }
    },
    {
      "cell_type": "code",
      "source": [
        "rfc = RandomForestClassifier(random_state=47)\n",
        "\n",
        "pipe = Pipeline(steps=[('preprocessing', preprocessing),\n",
        "                        ('disbalance', oversample),\n",
        "                        ('classifier', rfc)])\n",
        "params = {\n",
        "    'classifier__criterion': ['gini', 'entropy'],\n",
        "    'classifier__max_depth': [4, 6, 7],\n",
        "    'classifier__n_estimators': [70, 80, 90, 100],\n",
        "    'classifier__max_features': [3, 4, 5]\n",
        "}\n",
        "\n",
        "grid = GridSearchCV(pipe, param_grid=params, scoring='neg_log_loss', n_jobs=-1, cv=5, refit=True)\n",
        "grid.fit(X_train, y_train)\n",
        "print(f'Лучший logloss: {-grid.best_score_}')\n",
        "print(grid.best_params_)"
      ],
      "metadata": {
        "colab": {
          "base_uri": "https://localhost:8080/"
        },
        "id": "wbtdUMSBMMhp",
        "outputId": "0c701c36-c5d1-4da8-8e00-3fb713550fc9"
      },
      "execution_count": 49,
      "outputs": [
        {
          "output_type": "stream",
          "name": "stdout",
          "text": [
            "Лучший logloss: 0.5865261552180693\n",
            "{'classifier__criterion': 'gini', 'classifier__max_depth': 6, 'classifier__max_features': 4, 'classifier__n_estimators': 80}\n"
          ]
        }
      ]
    },
    {
      "cell_type": "markdown",
      "source": [
        "Подбор гиперпараметров помог улучшить метрику случайного леса"
      ],
      "metadata": {
        "id": "f9dedseWR4f2"
      }
    },
    {
      "cell_type": "code",
      "source": [
        "svc = SVC(random_state=47, probability=True)\n",
        "\n",
        "pipe = Pipeline(steps=[('preprocessing', preprocessing),\n",
        "                        ('disbalance', smoten),\n",
        "                        ('classifier', svc)])\n",
        "params = {\n",
        "    'classifier__C': [0.5, 1, 1.5],\n",
        "    'classifier__kernel': ['linear', 'poly', 'rbf'],\n",
        "    'classifier__gamma': [0.5, 1, 1.5, 2],\n",
        "    'classifier__degree': [2, 3]\n",
        "}\n",
        "\n",
        "grid = GridSearchCV(pipe, param_grid=params, scoring='neg_log_loss', n_jobs=-1, cv=5, refit=True)\n",
        "grid.fit(X_train, y_train)\n",
        "print(f'Лучший logloss: {-grid.best_score_}')\n",
        "print(grid.best_params_)"
      ],
      "metadata": {
        "colab": {
          "base_uri": "https://localhost:8080/"
        },
        "id": "dNjhW3okQ2FL",
        "outputId": "e6573cbc-a0e2-432e-bf84-920cb893b899"
      },
      "execution_count": 50,
      "outputs": [
        {
          "output_type": "stream",
          "name": "stdout",
          "text": [
            "Лучший logloss: 0.603119750812011\n",
            "{'classifier__C': 1, 'classifier__degree': 2, 'classifier__gamma': 1.5, 'classifier__kernel': 'rbf'}\n"
          ]
        }
      ]
    },
    {
      "cell_type": "markdown",
      "source": [
        "Подбор гиперпараметров улучшил метрику SVC, но при этом она не выше, чем у случайного леса.   \n",
        "Возьмем лучшие модели по результатам перекрестной проверки и сравним их результаты на тестовой выборке."
      ],
      "metadata": {
        "id": "tDM27n-9aL-X"
      }
    },
    {
      "cell_type": "code",
      "source": [
        "'''\n",
        "Функция принимает обучающие и тестовые выборки,\n",
        "обучает три модели с подобранными гиперпараметрами\n",
        "(в случае случайного леса - с оверсэмплингом)\n",
        "Возвращает значения логлосса и ROC-AUC'а\n",
        "'''\n",
        "\n",
        "def best_models_test(X, y, X_test, y_test):\n",
        "\n",
        "  lr = LogisticRegression(random_state=47, solver='liblinear', C=0.615848211066026, penalty='l1')\n",
        "  rfc = RandomForestClassifier(random_state=47, criterion='gini', max_depth=6, max_features=4, n_estimators=80)\n",
        "  svc = SVC(random_state=47, C=1.0, gamma=1.5, kernel='rbf', probability=True)\n",
        "\n",
        "  models = [lr, rfc, svc]\n",
        "  logloss = {}\n",
        "  roc = {}\n",
        "  for model in models:\n",
        "    if model == rfc:\n",
        "      pipe = Pipeline(steps=[('preprocessing', preprocessing),\n",
        "                        ('disbalance', oversample),\n",
        "                        ('classifier', rfc)])\n",
        "      pipe.fit(X, y)\n",
        "      prob_pred = pipe.predict_proba(X_test)\n",
        "      pred = pipe.predict(X_test)\n",
        "      log_score = log_loss(y_test, prob_pred)\n",
        "      roc_score = roc_auc_score(y_test, pred)\n",
        "      logloss.update({model.__class__.__name__: log_score})\n",
        "      roc.update({model.__class__.__name__: roc_score})\n",
        "    else:\n",
        "      pipe = Pipeline(steps=[('preprocessing', preprocessing),\n",
        "                        ('disbalance', smoten),\n",
        "                        ('classifier', model)])\n",
        "      pipe.fit(X, y)\n",
        "      prob_pred = pipe.predict_proba(X_test)\n",
        "      pred = pipe.predict(X_test)\n",
        "      log_score = log_loss(y_test, prob_pred)\n",
        "      roc_score = roc_auc_score(y_test, pred)\n",
        "      logloss.update({model.__class__.__name__: log_score})\n",
        "      roc.update({model.__class__.__name__: roc_score})\n",
        "\n",
        "  return logloss, roc, models"
      ],
      "metadata": {
        "id": "SvnRWN2RbtxX"
      },
      "execution_count": 51,
      "outputs": []
    },
    {
      "cell_type": "code",
      "source": [
        "results_log, results_roc, models = best_models_test(X_train, y_train, X_test, y_test)"
      ],
      "metadata": {
        "id": "pUJUk-PldRfA"
      },
      "execution_count": 52,
      "outputs": []
    },
    {
      "cell_type": "code",
      "source": [
        "final = pd.DataFrame(data=[results_log, results_roc],\n",
        "                     index=['Log loss', 'ROC AUC'])"
      ],
      "metadata": {
        "id": "-5VfivXsSP1O"
      },
      "execution_count": 53,
      "outputs": []
    },
    {
      "cell_type": "code",
      "source": [
        "final"
      ],
      "metadata": {
        "colab": {
          "base_uri": "https://localhost:8080/",
          "height": 112
        },
        "id": "VHEKWQ8ASi4a",
        "outputId": "4f0d7a71-4405-43a7-b17c-ba659cb92868"
      },
      "execution_count": 54,
      "outputs": [
        {
          "output_type": "execute_result",
          "data": {
            "text/plain": [
              "          LogisticRegression  RandomForestClassifier       SVC\n",
              "Log loss            0.548322                0.578828  0.680802\n",
              "ROC AUC             0.647436                0.562179  0.502564"
            ],
            "text/html": [
              "<div>\n",
              "<style scoped>\n",
              "    .dataframe tbody tr th:only-of-type {\n",
              "        vertical-align: middle;\n",
              "    }\n",
              "\n",
              "    .dataframe tbody tr th {\n",
              "        vertical-align: top;\n",
              "    }\n",
              "\n",
              "    .dataframe thead th {\n",
              "        text-align: right;\n",
              "    }\n",
              "</style>\n",
              "<table border=\"1\" class=\"dataframe\">\n",
              "  <thead>\n",
              "    <tr style=\"text-align: right;\">\n",
              "      <th></th>\n",
              "      <th>LogisticRegression</th>\n",
              "      <th>RandomForestClassifier</th>\n",
              "      <th>SVC</th>\n",
              "    </tr>\n",
              "  </thead>\n",
              "  <tbody>\n",
              "    <tr>\n",
              "      <th>Log loss</th>\n",
              "      <td>0.548322</td>\n",
              "      <td>0.578828</td>\n",
              "      <td>0.680802</td>\n",
              "    </tr>\n",
              "    <tr>\n",
              "      <th>ROC AUC</th>\n",
              "      <td>0.647436</td>\n",
              "      <td>0.562179</td>\n",
              "      <td>0.502564</td>\n",
              "    </tr>\n",
              "  </tbody>\n",
              "</table>\n",
              "</div>"
            ]
          },
          "metadata": {},
          "execution_count": 54
        }
      ]
    }
  ]
}